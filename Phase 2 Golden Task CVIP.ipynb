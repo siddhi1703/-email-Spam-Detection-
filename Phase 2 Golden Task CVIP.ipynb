{
 "cells": [
  {
   "cell_type": "markdown",
   "id": "4a3f05a7",
   "metadata": {},
   "source": [
    "# Siddhi Sandip Kakani\n",
    "# Phase 2 Golden Task"
   ]
  },
  {
   "cell_type": "markdown",
   "id": "6e4a093d",
   "metadata": {},
   "source": [
    "# Build a spam filter using NLP and machine learning to identify and filter out spam emails"
   ]
  },
  {
   "cell_type": "code",
   "execution_count": 5,
   "id": "58396a1c",
   "metadata": {},
   "outputs": [],
   "source": [
    "import pandas as pd  # Importing pandas library for data manipulation and analysis.\n",
    "import tensorflow as tf  # Importing TensorFlow library for building and training deep learning models.\n",
    "from tensorflow import keras  # Importing Keras API from TensorFlow for building neural networks.\n",
    "from matplotlib import pyplot as plt  # Importing matplotlib library for data visualization.\n",
    "from tensorflow.keras import Sequential, layers  # Importing Sequential and layers modules from Keras for building neural network architectures.\n"
   ]
  },
  {
   "cell_type": "code",
   "execution_count": 6,
   "id": "3d197107",
   "metadata": {},
   "outputs": [
    {
     "data": {
      "text/html": [
       "<div>\n",
       "<style scoped>\n",
       "    .dataframe tbody tr th:only-of-type {\n",
       "        vertical-align: middle;\n",
       "    }\n",
       "\n",
       "    .dataframe tbody tr th {\n",
       "        vertical-align: top;\n",
       "    }\n",
       "\n",
       "    .dataframe thead th {\n",
       "        text-align: right;\n",
       "    }\n",
       "</style>\n",
       "<table border=\"1\" class=\"dataframe\">\n",
       "  <thead>\n",
       "    <tr style=\"text-align: right;\">\n",
       "      <th></th>\n",
       "      <th>text</th>\n",
       "      <th>spam</th>\n",
       "    </tr>\n",
       "  </thead>\n",
       "  <tbody>\n",
       "    <tr>\n",
       "      <th>0</th>\n",
       "      <td>Subject: naturally irresistible your corporate...</td>\n",
       "      <td>1</td>\n",
       "    </tr>\n",
       "    <tr>\n",
       "      <th>1</th>\n",
       "      <td>Subject: the stock trading gunslinger  fanny i...</td>\n",
       "      <td>1</td>\n",
       "    </tr>\n",
       "    <tr>\n",
       "      <th>2</th>\n",
       "      <td>Subject: unbelievable new homes made easy  im ...</td>\n",
       "      <td>1</td>\n",
       "    </tr>\n",
       "    <tr>\n",
       "      <th>3</th>\n",
       "      <td>Subject: 4 color printing special  request add...</td>\n",
       "      <td>1</td>\n",
       "    </tr>\n",
       "    <tr>\n",
       "      <th>4</th>\n",
       "      <td>Subject: do not have money , get software cds ...</td>\n",
       "      <td>1</td>\n",
       "    </tr>\n",
       "  </tbody>\n",
       "</table>\n",
       "</div>"
      ],
      "text/plain": [
       "                                                text  spam\n",
       "0  Subject: naturally irresistible your corporate...     1\n",
       "1  Subject: the stock trading gunslinger  fanny i...     1\n",
       "2  Subject: unbelievable new homes made easy  im ...     1\n",
       "3  Subject: 4 color printing special  request add...     1\n",
       "4  Subject: do not have money , get software cds ...     1"
      ]
     },
     "execution_count": 6,
     "metadata": {},
     "output_type": "execute_result"
    }
   ],
   "source": [
    "df = pd.read_csv('emails.csv')  # Reading the dataset 'emails.csv' into a pandas DataFrame.\n",
    "df.head()  # Displaying the first few rows of the DataFrame to inspect the data.\n"
   ]
  },
  {
   "cell_type": "code",
   "execution_count": 7,
   "id": "db69ca12",
   "metadata": {},
   "outputs": [
    {
     "data": {
      "text/html": [
       "<div>\n",
       "<style scoped>\n",
       "    .dataframe tbody tr th:only-of-type {\n",
       "        vertical-align: middle;\n",
       "    }\n",
       "\n",
       "    .dataframe tbody tr th {\n",
       "        vertical-align: top;\n",
       "    }\n",
       "\n",
       "    .dataframe thead th {\n",
       "        text-align: right;\n",
       "    }\n",
       "</style>\n",
       "<table border=\"1\" class=\"dataframe\">\n",
       "  <thead>\n",
       "    <tr style=\"text-align: right;\">\n",
       "      <th></th>\n",
       "      <th>text</th>\n",
       "      <th>spam</th>\n",
       "    </tr>\n",
       "  </thead>\n",
       "  <tbody>\n",
       "    <tr>\n",
       "      <th>1955</th>\n",
       "      <td>Subject: conference on risk management : the s...</td>\n",
       "      <td>0</td>\n",
       "    </tr>\n",
       "    <tr>\n",
       "      <th>1225</th>\n",
       "      <td>Subject: important announcement : your applica...</td>\n",
       "      <td>1</td>\n",
       "    </tr>\n",
       "    <tr>\n",
       "      <th>5114</th>\n",
       "      <td>Subject: alp presentation  this will be in eb ...</td>\n",
       "      <td>0</td>\n",
       "    </tr>\n",
       "    <tr>\n",
       "      <th>419</th>\n",
       "      <td>Subject: big range of all types of downloadabl...</td>\n",
       "      <td>1</td>\n",
       "    </tr>\n",
       "    <tr>\n",
       "      <th>5616</th>\n",
       "      <td>Subject: re : presentation  if you would like ...</td>\n",
       "      <td>0</td>\n",
       "    </tr>\n",
       "  </tbody>\n",
       "</table>\n",
       "</div>"
      ],
      "text/plain": [
       "                                                   text  spam\n",
       "1955  Subject: conference on risk management : the s...     0\n",
       "1225  Subject: important announcement : your applica...     1\n",
       "5114  Subject: alp presentation  this will be in eb ...     0\n",
       "419   Subject: big range of all types of downloadabl...     1\n",
       "5616  Subject: re : presentation  if you would like ...     0"
      ]
     },
     "execution_count": 7,
     "metadata": {},
     "output_type": "execute_result"
    }
   ],
   "source": [
    "tf.random.set_seed(69)  # Setting the random seed to ensure reproducibility of results.\n",
    "df = df.sample(frac=True)  # Randomly shuffling the rows of the DataFrame.\n",
    "df.head()  # Displaying the first few rows of the shuffled DataFrame.\n"
   ]
  },
  {
   "cell_type": "code",
   "execution_count": 8,
   "id": "fc0d777d",
   "metadata": {},
   "outputs": [
    {
     "data": {
      "text/plain": [
       "array([0, 1], dtype=int64)"
      ]
     },
     "execution_count": 8,
     "metadata": {},
     "output_type": "execute_result"
    }
   ],
   "source": [
    "df['spam'].unique()  # Retrieving the unique values of the 'spam' column in the DataFrame.\n"
   ]
  },
  {
   "cell_type": "code",
   "execution_count": 9,
   "id": "946b86b1",
   "metadata": {},
   "outputs": [
    {
     "name": "stdout",
     "output_type": "stream",
     "text": [
      "<class 'pandas.core.frame.DataFrame'>\n",
      "Int64Index: 5728 entries, 1955 to 4426\n",
      "Data columns (total 2 columns):\n",
      " #   Column  Non-Null Count  Dtype \n",
      "---  ------  --------------  ----- \n",
      " 0   text    5728 non-null   object\n",
      " 1   spam    5728 non-null   int64 \n",
      "dtypes: int64(1), object(1)\n",
      "memory usage: 134.2+ KB\n"
     ]
    }
   ],
   "source": [
    "df.info()  # Displaying information about the DataFrame including column names, data types, and non-null counts.\n"
   ]
  },
  {
   "cell_type": "code",
   "execution_count": 10,
   "id": "647d8b6a",
   "metadata": {},
   "outputs": [
    {
     "name": "stdout",
     "output_type": "stream",
     "text": [
      "<class 'pandas.core.series.Series'>\n",
      "Int64Index: 5728 entries, 1955 to 4426\n",
      "Series name: text\n",
      "Non-Null Count  Dtype \n",
      "--------------  ----- \n",
      "5728 non-null   object\n",
      "dtypes: object(1)\n",
      "memory usage: 89.5+ KB\n"
     ]
    }
   ],
   "source": [
    "df['text'].info()  # Displaying information about the 'text' column in the DataFrame.\n"
   ]
  },
  {
   "cell_type": "code",
   "execution_count": 11,
   "id": "170cd4bf",
   "metadata": {},
   "outputs": [
    {
     "name": "stdout",
     "output_type": "stream",
     "text": [
      "<class 'pandas.core.series.Series'>\n",
      "Int64Index: 5728 entries, 1955 to 4426\n",
      "Series name: spam\n",
      "Non-Null Count  Dtype\n",
      "--------------  -----\n",
      "5728 non-null   int64\n",
      "dtypes: int64(1)\n",
      "memory usage: 89.5 KB\n"
     ]
    }
   ],
   "source": [
    "df['spam'].info()  # Displaying information about the 'spam' column in the DataFrame.\n"
   ]
  },
  {
   "cell_type": "code",
   "execution_count": 12,
   "id": "7c8d090e",
   "metadata": {
    "scrolled": true
   },
   "outputs": [
    {
     "data": {
      "text/plain": [
       "<bound method Series.unique of 1955    Subject: conference on risk management : the s...\n",
       "1225    Subject: important announcement : your applica...\n",
       "5114    Subject: alp presentation  this will be in eb ...\n",
       "419     Subject: big range of all types of downloadabl...\n",
       "5616    Subject: re : presentation  if you would like ...\n",
       "                              ...                        \n",
       "2115    Subject: re : additional bloomberg terminal fo...\n",
       "4744    Subject: real options conference programs ( uc...\n",
       "5455    Subject: confirmation of your order  this is a...\n",
       "3490    Subject: re : worldpower  mark ,  i agree with...\n",
       "4426    Subject: program posted  hello all ,  the prog...\n",
       "Name: text, Length: 5728, dtype: object>"
      ]
     },
     "execution_count": 12,
     "metadata": {},
     "output_type": "execute_result"
    }
   ],
   "source": [
    "df['text'].unique()  # Retrieving the unique values of the 'text' column in the DataFrame.\n"
   ]
  },
  {
   "cell_type": "code",
   "execution_count": 61,
   "id": "7ffc6a07",
   "metadata": {},
   "outputs": [
    {
     "name": "stdout",
     "output_type": "stream",
     "text": [
      "The word \"0\" appears 4360 times in the column \"spam\".\n"
     ]
    }
   ],
   "source": [
    "def count_word(word, column):\n",
    "    \"\"\"\n",
    "    Count the frequency of a word in a specific column of the DataFrame.\n",
    "\n",
    "    Parameters:\n",
    "    - word: The word to count.\n",
    "    - column: The column in which to search for the word.\n",
    "\n",
    "    Returns:\n",
    "    - The total frequency of the word in the specified column.\n",
    "    \"\"\"\n",
    "    words = df[column].astype(str).str.lower().str.split()  # Splitting text into words and converting to lowercase.\n",
    "    counts = words.apply(lambda x: x.count(word))  # Counting occurrences of the word in each row.\n",
    "    return counts.sum()  # Summing up the total frequency of the word in the column.\n",
    "\n",
    "word = '0'  # Word to search for.\n",
    "column = 'spam'  # Column to search within.\n",
    "frequency_0 = count_word(word, column)  # Calling the function to count the frequency of the word.\n",
    "print(f'The word \"{word}\" appears {frequency_0} times in the column \"{column}\".')  # Printing the result.\n"
   ]
  },
  {
   "cell_type": "code",
   "execution_count": 62,
   "id": "f6b57a82",
   "metadata": {},
   "outputs": [
    {
     "name": "stdout",
     "output_type": "stream",
     "text": [
      "The word \"1\" appears 1368 times in the column \"spam\".\n"
     ]
    }
   ],
   "source": [
    "word = '1'  # Word to search for.\n",
    "column = 'spam'  # Column to search within.\n",
    "frequency_1 = count_word(word, column)  # Calling the function to count the frequency of the word.\n",
    "print(f'The word \"{word}\" appears {frequency_1} times in the column \"{column}\".')  # Printing the result.\n"
   ]
  },
  {
   "cell_type": "code",
   "execution_count": 63,
   "id": "25f23353",
   "metadata": {},
   "outputs": [
    {
     "data": {
      "image/png": "[encoded data removed]",
      "text/plain": [
       "<Figure size 640x480 with 1 Axes>"
      ]
     },
     "metadata": {},
     "output_type": "display_data"
    }
   ],
   "source": [
    "def plot():\n",
    "    \"\"\"\n",
    "    Plot the frequency of words in different categories.\n",
    "\n",
    "    This function plots the frequency of words in different categories (e.g., spam and not spam).\n",
    "\n",
    "    Parameters: None\n",
    "    Returns: None\n",
    "    \"\"\"\n",
    "    words = ['spam', 'not spam']  # Categories of words.\n",
    "    freq = [frequency_1, frequency_0]  # Frequency of words in each category.\n",
    "    plt.bar(words, freq, color=['tab:blue', 'tab:cyan'])  # Plotting the bar chart.\n",
    "    plt.title('The Difference Between Spam and Not Spam')  # Adding a title to the plot.\n",
    "    plt.xlabel('Categories')  # Adding label for the x-axis.\n",
    "    plt.ylabel('Frequency')  # Adding label for the y-axis.\n",
    "    plt.show()  # Displaying the plot.\n",
    "\n",
    "plot()  # Calling the function to plot the frequency of words.\n"
   ]
  },
  {
   "cell_type": "code",
   "execution_count": 65,
   "id": "6f3d9e47",
   "metadata": {},
   "outputs": [],
   "source": [
    "def absv(absv):\n",
    "    \"\"\"\n",
    "    Create a lambda function to format absolute values for use in matplotlib pie chart labels.\n",
    "\n",
    "    Parameters:\n",
    "    - absv: List of absolute values corresponding to pie chart slices.\n",
    "\n",
    "    Returns:\n",
    "    - Lambda function that formats percentage values with absolute values as labels.\n",
    "    \"\"\"\n",
    "    gen = iter(absv)  # Create an iterator for absolute values.\n",
    "    return lambda pct: f'{pct:.1f}%\\n({next(gen)})'  # Define lambda function to format labels.\n",
    "\n",
    "# No comment needed here as the function is self-explanatory.\n"
   ]
  },
  {
   "cell_type": "code",
   "execution_count": 90,
   "id": "af80afbe",
   "metadata": {},
   "outputs": [
    {
     "name": "stderr",
     "output_type": "stream",
     "text": [
      "C:\\ProgramData\\anaconda3\\Lib\\site-packages\\IPython\\core\\pylabtools.py:152: UserWarning: Glyph 9 (\t) missing from current font.\n",
      "  fig.canvas.print_figure(bytes_io, **kw)\n"
     ]
    },
    {
     "data": {
      "image/png": "[encoded data removed]",
      "text/plain": [
       "<Figure size 640x480 with 1 Axes>"
      ]
     },
     "metadata": {},
     "output_type": "display_data"
    }
   ],
   "source": [
    "\n",
    "words = ['spam', 'not spam']  # Categories of words.\n",
    "freq = [frequency_1, frequency_0]  # Frequency of words in each category.\n",
    "\n",
    "# Plot a pie chart with labels, percentages, and colors\n",
    "plt.pie(freq, labels=words, autopct=absv(freq), colors=['tab:blue', 'tab:cyan'])  # Plotting the pie chart.\n",
    "\n",
    "# Add a title to the plot\n",
    "plt.title('The Difference Between Spam and Not Spam')  # Adding a title to the plot.\n",
    "\n",
    "# Show the plot\n",
    "plt.show()  # Displaying the plot.\n"
   ]
  },
  {
   "cell_type": "code",
   "execution_count": 91,
   "id": "f8494126",
   "metadata": {},
   "outputs": [],
   "source": [
    "df_0 = df[df['spam'] == 0]  # Filtering the DataFrame to select rows where the 'spam' column has value 0.\n"
   ]
  },
  {
   "cell_type": "code",
   "execution_count": 98,
   "id": "75d84841",
   "metadata": {},
   "outputs": [
    {
     "data": {
      "text/html": [
       "<div>\n",
       "<style scoped>\n",
       "    .dataframe tbody tr th:only-of-type {\n",
       "        vertical-align: middle;\n",
       "    }\n",
       "\n",
       "    .dataframe tbody tr th {\n",
       "        vertical-align: top;\n",
       "    }\n",
       "\n",
       "    .dataframe thead th {\n",
       "        text-align: right;\n",
       "    }\n",
       "</style>\n",
       "<table border=\"1\" class=\"dataframe\">\n",
       "  <thead>\n",
       "    <tr style=\"text-align: right;\">\n",
       "      <th></th>\n",
       "      <th>text</th>\n",
       "      <th>spam</th>\n",
       "    </tr>\n",
       "  </thead>\n",
       "  <tbody>\n",
       "    <tr>\n",
       "      <th>1955</th>\n",
       "      <td>Subject: conference on risk management : the s...</td>\n",
       "      <td>0</td>\n",
       "    </tr>\n",
       "    <tr>\n",
       "      <th>5114</th>\n",
       "      <td>Subject: alp presentation  this will be in eb ...</td>\n",
       "      <td>0</td>\n",
       "    </tr>\n",
       "    <tr>\n",
       "      <th>5616</th>\n",
       "      <td>Subject: re : presentation  if you would like ...</td>\n",
       "      <td>0</td>\n",
       "    </tr>\n",
       "    <tr>\n",
       "      <th>3529</th>\n",
       "      <td>Subject: conference  steve ,  the slides are o...</td>\n",
       "      <td>0</td>\n",
       "    </tr>\n",
       "    <tr>\n",
       "      <th>5532</th>\n",
       "      <td>Subject: re : new lacima publication  fiona , ...</td>\n",
       "      <td>0</td>\n",
       "    </tr>\n",
       "    <tr>\n",
       "      <th>...</th>\n",
       "      <td>...</td>\n",
       "      <td>...</td>\n",
       "    </tr>\n",
       "    <tr>\n",
       "      <th>2115</th>\n",
       "      <td>Subject: re : additional bloomberg terminal fo...</td>\n",
       "      <td>0</td>\n",
       "    </tr>\n",
       "    <tr>\n",
       "      <th>4744</th>\n",
       "      <td>Subject: real options conference programs ( uc...</td>\n",
       "      <td>0</td>\n",
       "    </tr>\n",
       "    <tr>\n",
       "      <th>5455</th>\n",
       "      <td>Subject: confirmation of your order  this is a...</td>\n",
       "      <td>0</td>\n",
       "    </tr>\n",
       "    <tr>\n",
       "      <th>3490</th>\n",
       "      <td>Subject: re : worldpower  mark ,  i agree with...</td>\n",
       "      <td>0</td>\n",
       "    </tr>\n",
       "    <tr>\n",
       "      <th>4426</th>\n",
       "      <td>Subject: program posted  hello all ,  the prog...</td>\n",
       "      <td>0</td>\n",
       "    </tr>\n",
       "  </tbody>\n",
       "</table>\n",
       "<p>4360 rows × 2 columns</p>\n",
       "</div>"
      ],
      "text/plain": [
       "                                                   text  spam\n",
       "1955  Subject: conference on risk management : the s...     0\n",
       "5114  Subject: alp presentation  this will be in eb ...     0\n",
       "5616  Subject: re : presentation  if you would like ...     0\n",
       "3529  Subject: conference  steve ,  the slides are o...     0\n",
       "5532  Subject: re : new lacima publication  fiona , ...     0\n",
       "...                                                 ...   ...\n",
       "2115  Subject: re : additional bloomberg terminal fo...     0\n",
       "4744  Subject: real options conference programs ( uc...     0\n",
       "5455  Subject: confirmation of your order  this is a...     0\n",
       "3490  Subject: re : worldpower  mark ,  i agree with...     0\n",
       "4426  Subject: program posted  hello all ,  the prog...     0\n",
       "\n",
       "[4360 rows x 2 columns]"
      ]
     },
     "execution_count": 98,
     "metadata": {},
     "output_type": "execute_result"
    }
   ],
   "source": [
    "df_0"
   ]
  },
  {
   "cell_type": "code",
   "execution_count": 92,
   "id": "6bcf6d0f",
   "metadata": {},
   "outputs": [],
   "source": [
    "df_1 = df[df['spam'] == 1]  # Filtering the DataFrame to select rows where the 'spam' column has value 1.\n"
   ]
  },
  {
   "cell_type": "code",
   "execution_count": 99,
   "id": "a6fbafbb",
   "metadata": {},
   "outputs": [
    {
     "data": {
      "text/html": [
       "<div>\n",
       "<style scoped>\n",
       "    .dataframe tbody tr th:only-of-type {\n",
       "        vertical-align: middle;\n",
       "    }\n",
       "\n",
       "    .dataframe tbody tr th {\n",
       "        vertical-align: top;\n",
       "    }\n",
       "\n",
       "    .dataframe thead th {\n",
       "        text-align: right;\n",
       "    }\n",
       "</style>\n",
       "<table border=\"1\" class=\"dataframe\">\n",
       "  <thead>\n",
       "    <tr style=\"text-align: right;\">\n",
       "      <th></th>\n",
       "      <th>text</th>\n",
       "      <th>spam</th>\n",
       "    </tr>\n",
       "  </thead>\n",
       "  <tbody>\n",
       "    <tr>\n",
       "      <th>1225</th>\n",
       "      <td>Subject: important announcement : your applica...</td>\n",
       "      <td>1</td>\n",
       "    </tr>\n",
       "    <tr>\n",
       "      <th>419</th>\n",
       "      <td>Subject: big range of all types of downloadabl...</td>\n",
       "      <td>1</td>\n",
       "    </tr>\n",
       "    <tr>\n",
       "      <th>18</th>\n",
       "      <td>Subject: security alert - confirm your nationa...</td>\n",
       "      <td>1</td>\n",
       "    </tr>\n",
       "    <tr>\n",
       "      <th>587</th>\n",
       "      <td>Subject: porn p . o . : your 10 free pictures ...</td>\n",
       "      <td>1</td>\n",
       "    </tr>\n",
       "    <tr>\n",
       "      <th>1309</th>\n",
       "      <td>Subject: save your money by getting an oem sof...</td>\n",
       "      <td>1</td>\n",
       "    </tr>\n",
       "    <tr>\n",
       "      <th>...</th>\n",
       "      <td>...</td>\n",
       "      <td>...</td>\n",
       "    </tr>\n",
       "    <tr>\n",
       "      <th>15</th>\n",
       "      <td>Subject: search engine position  be the very f...</td>\n",
       "      <td>1</td>\n",
       "    </tr>\n",
       "    <tr>\n",
       "      <th>1186</th>\n",
       "      <td>Subject: professional logo for you now  workin...</td>\n",
       "      <td>1</td>\n",
       "    </tr>\n",
       "    <tr>\n",
       "      <th>152</th>\n",
       "      <td>Subject: 3 locations free : orlando , las vega...</td>\n",
       "      <td>1</td>\n",
       "    </tr>\n",
       "    <tr>\n",
       "      <th>1207</th>\n",
       "      <td>Subject: business partnership ( urgent / confi...</td>\n",
       "      <td>1</td>\n",
       "    </tr>\n",
       "    <tr>\n",
       "      <th>706</th>\n",
       "      <td>Subject: urgent response  dear sir / madam ,  ...</td>\n",
       "      <td>1</td>\n",
       "    </tr>\n",
       "  </tbody>\n",
       "</table>\n",
       "<p>1368 rows × 2 columns</p>\n",
       "</div>"
      ],
      "text/plain": [
       "                                                   text  spam\n",
       "1225  Subject: important announcement : your applica...     1\n",
       "419   Subject: big range of all types of downloadabl...     1\n",
       "18    Subject: security alert - confirm your nationa...     1\n",
       "587   Subject: porn p . o . : your 10 free pictures ...     1\n",
       "1309  Subject: save your money by getting an oem sof...     1\n",
       "...                                                 ...   ...\n",
       "15    Subject: search engine position  be the very f...     1\n",
       "1186  Subject: professional logo for you now  workin...     1\n",
       "152   Subject: 3 locations free : orlando , las vega...     1\n",
       "1207  Subject: business partnership ( urgent / confi...     1\n",
       "706   Subject: urgent response  dear sir / madam ,  ...     1\n",
       "\n",
       "[1368 rows x 2 columns]"
      ]
     },
     "execution_count": 99,
     "metadata": {},
     "output_type": "execute_result"
    }
   ],
   "source": [
    "df_1"
   ]
  },
  {
   "cell_type": "code",
   "execution_count": 100,
   "id": "773b3877",
   "metadata": {},
   "outputs": [],
   "source": [
    "# Find the number of rows in the smaller group\n",
    "n = min(len(df_0), len(df_1))"
   ]
  },
  {
   "cell_type": "code",
   "execution_count": 101,
   "id": "a01795e3",
   "metadata": {},
   "outputs": [],
   "source": [
    "# Sample n rows from the larger group without replacement\n",
    "df_0_balanced = df_0.sample(n, replace=False)"
   ]
  },
  {
   "cell_type": "code",
   "execution_count": 102,
   "id": "5eb2c498",
   "metadata": {},
   "outputs": [
    {
     "data": {
      "text/html": [
       "<div>\n",
       "<style scoped>\n",
       "    .dataframe tbody tr th:only-of-type {\n",
       "        vertical-align: middle;\n",
       "    }\n",
       "\n",
       "    .dataframe tbody tr th {\n",
       "        vertical-align: top;\n",
       "    }\n",
       "\n",
       "    .dataframe thead th {\n",
       "        text-align: right;\n",
       "    }\n",
       "</style>\n",
       "<table border=\"1\" class=\"dataframe\">\n",
       "  <thead>\n",
       "    <tr style=\"text-align: right;\">\n",
       "      <th></th>\n",
       "      <th>text</th>\n",
       "      <th>spam</th>\n",
       "    </tr>\n",
       "  </thead>\n",
       "  <tbody>\n",
       "    <tr>\n",
       "      <th>2209</th>\n",
       "      <td>Subject: new pc  shirley ,  ok .  vince  - - -...</td>\n",
       "      <td>0</td>\n",
       "    </tr>\n",
       "    <tr>\n",
       "      <th>3024</th>\n",
       "      <td>Subject: congratulations  vince : congratulati...</td>\n",
       "      <td>0</td>\n",
       "    </tr>\n",
       "    <tr>\n",
       "      <th>5365</th>\n",
       "      <td>Subject: rdi conference - may 17 - 19 , 2000  ...</td>\n",
       "      <td>0</td>\n",
       "    </tr>\n",
       "    <tr>\n",
       "      <th>1694</th>\n",
       "      <td>Subject: thursday summer intern dinner  vince ...</td>\n",
       "      <td>0</td>\n",
       "    </tr>\n",
       "    <tr>\n",
       "      <th>3508</th>\n",
       "      <td>Subject: friday brown bag for options pricing ...</td>\n",
       "      <td>0</td>\n",
       "    </tr>\n",
       "    <tr>\n",
       "      <th>...</th>\n",
       "      <td>...</td>\n",
       "      <td>...</td>\n",
       "    </tr>\n",
       "    <tr>\n",
       "      <th>1602</th>\n",
       "      <td>Subject: texas a &amp; m at galveston  dr . bill m...</td>\n",
       "      <td>0</td>\n",
       "    </tr>\n",
       "    <tr>\n",
       "      <th>5598</th>\n",
       "      <td>Subject: re : order for book  julie ,  the dis...</td>\n",
       "      <td>0</td>\n",
       "    </tr>\n",
       "    <tr>\n",
       "      <th>2013</th>\n",
       "      <td>Subject: preliminary interviews with the resea...</td>\n",
       "      <td>0</td>\n",
       "    </tr>\n",
       "    <tr>\n",
       "      <th>3948</th>\n",
       "      <td>Subject: re : fw : possible visit to enron by ...</td>\n",
       "      <td>0</td>\n",
       "    </tr>\n",
       "    <tr>\n",
       "      <th>1961</th>\n",
       "      <td>Subject: telephone interview with the houston ...</td>\n",
       "      <td>0</td>\n",
       "    </tr>\n",
       "  </tbody>\n",
       "</table>\n",
       "<p>1368 rows × 2 columns</p>\n",
       "</div>"
      ],
      "text/plain": [
       "                                                   text  spam\n",
       "2209  Subject: new pc  shirley ,  ok .  vince  - - -...     0\n",
       "3024  Subject: congratulations  vince : congratulati...     0\n",
       "5365  Subject: rdi conference - may 17 - 19 , 2000  ...     0\n",
       "1694  Subject: thursday summer intern dinner  vince ...     0\n",
       "3508  Subject: friday brown bag for options pricing ...     0\n",
       "...                                                 ...   ...\n",
       "1602  Subject: texas a & m at galveston  dr . bill m...     0\n",
       "5598  Subject: re : order for book  julie ,  the dis...     0\n",
       "2013  Subject: preliminary interviews with the resea...     0\n",
       "3948  Subject: re : fw : possible visit to enron by ...     0\n",
       "1961  Subject: telephone interview with the houston ...     0\n",
       "\n",
       "[1368 rows x 2 columns]"
      ]
     },
     "execution_count": 102,
     "metadata": {},
     "output_type": "execute_result"
    }
   ],
   "source": [
    "df_0_balanced"
   ]
  },
  {
   "cell_type": "code",
   "execution_count": 104,
   "id": "3767b726",
   "metadata": {},
   "outputs": [
    {
     "name": "stdout",
     "output_type": "stream",
     "text": [
      "                                                   text  spam\n",
      "2209  Subject: new pc  shirley ,  ok .  vince  - - -...     0\n",
      "3024  Subject: congratulations  vince : congratulati...     0\n",
      "5365  Subject: rdi conference - may 17 - 19 , 2000  ...     0\n",
      "1694  Subject: thursday summer intern dinner  vince ...     0\n",
      "3508  Subject: friday brown bag for options pricing ...     0\n",
      "...                                                 ...   ...\n",
      "15    Subject: search engine position  be the very f...     1\n",
      "1186  Subject: professional logo for you now  workin...     1\n",
      "152   Subject: 3 locations free : orlando , las vega...     1\n",
      "1207  Subject: business partnership ( urgent / confi...     1\n",
      "706   Subject: urgent response  dear sir / madam ,  ...     1\n",
      "\n",
      "[2736 rows x 2 columns]\n"
     ]
    }
   ],
   "source": [
    "# Concatenate the balanced group with the smaller group\n",
    "df_balanced = pd.concat([df_0_balanced, df_1])\n",
    "df = df_balanced\n",
    "# Print the balanced DataFrame\n",
    "print(df_balanced)"
   ]
  },
  {
   "cell_type": "code",
   "execution_count": 105,
   "id": "2a7977cd",
   "metadata": {},
   "outputs": [
    {
     "name": "stdout",
     "output_type": "stream",
     "text": [
      "The word \"0\" appears 1368 times in the column \"spam\".\n"
     ]
    }
   ],
   "source": [
    "word = '0'  # Word to search for.\n",
    "column = 'spam'  # Column to search within.\n",
    "frequency_fixed_0 = count_word(word, column)  # Calling the function to count the frequency of the word.\n",
    "print(f'The word \"{word}\" appears {frequency_fixed_0} times in the column \"{column}\".')  # Printing the result.\n"
   ]
  },
  {
   "cell_type": "code",
   "execution_count": 106,
   "id": "128bd33e",
   "metadata": {},
   "outputs": [
    {
     "name": "stdout",
     "output_type": "stream",
     "text": [
      "The word \"1\" appears 1368 times in the column \"spam\".\n"
     ]
    }
   ],
   "source": [
    "word = '1'  # Word to search for.\n",
    "column = 'spam'  # Column to search within.\n",
    "frequency_fixed_1 = count_word(word, column)  # Calling the function to count the frequency of the word.\n",
    "print(f'The word \"{word}\" appears {frequency_fixed_1} times in the column \"{column}\".')  # Printing the result.\n"
   ]
  },
  {
   "cell_type": "code",
   "execution_count": 109,
   "id": "9effe079",
   "metadata": {
    "scrolled": true
   },
   "outputs": [
    {
     "data": {
      "image/png": "[encoded data removed]",
      "text/plain": [
       "<Figure size 640x480 with 1 Axes>"
      ]
     },
     "metadata": {},
     "output_type": "display_data"
    }
   ],
   "source": [
    "words = ['spam', 'not spam']  # Categories of words.\n",
    "freq = [frequency_fixed_1, frequency_fixed_0]  # Frequency of words in each category.\n",
    "\n",
    "# Plot a pie chart with labels and colors\n",
    "plt.pie(fre, labels=word,autopct=absv(fre) ,colors=['tab:blue', 'tab:cyan']) #again my fav colors\n",
    "\n",
    "# Add a title to the plot\n",
    "plt.title('the difference between spam and not spam')\n",
    "\n",
    "# Show the plot\n",
    "plt.show()"
   ]
  },
  {
   "cell_type": "code",
   "execution_count": 110,
   "id": "4d4f0416",
   "metadata": {},
   "outputs": [
    {
     "data": {
      "image/png": "[encoded data removed]",
      "text/plain": [
       "<Figure size 640x480 with 1 Axes>"
      ]
     },
     "metadata": {},
     "output_type": "display_data"
    }
   ],
   "source": [
    "def plot():\n",
    "    \"\"\"\n",
    "    Plot the frequency of words in different categories.\n",
    "\n",
    "    This function plots the frequency of words in different categories (e.g., spam and not spam).\n",
    "\n",
    "    Parameters: None\n",
    "    Returns: None\n",
    "    \"\"\"\n",
    "    words = ['spam', 'not spam']  # Categories of words.\n",
    "    freq = [frequency_fixed_1, frequency_fixed_0]  # Frequency of words in each category.\n",
    "    plt.bar(words, freq, color=['tab:blue', 'tab:cyan'])  # Plotting the bar chart.\n",
    "    plt.title('The Difference Between Spam and Not Spam')  # Adding a title to the plot.\n",
    "    plt.xlabel('Categories')  # Adding label for the x-axis.\n",
    "    plt.ylabel('Frequency')  # Adding label for the y-axis.\n",
    "    plt.show()  # Displaying the plot.\n",
    "\n",
    "plot()  # Calling the function to plot the frequency of words.\n"
   ]
  },
  {
   "cell_type": "code",
   "execution_count": 111,
   "id": "b2fb0972",
   "metadata": {},
   "outputs": [
    {
     "data": {
      "text/html": [
       "<div>\n",
       "<style scoped>\n",
       "    .dataframe tbody tr th:only-of-type {\n",
       "        vertical-align: middle;\n",
       "    }\n",
       "\n",
       "    .dataframe tbody tr th {\n",
       "        vertical-align: top;\n",
       "    }\n",
       "\n",
       "    .dataframe thead th {\n",
       "        text-align: right;\n",
       "    }\n",
       "</style>\n",
       "<table border=\"1\" class=\"dataframe\">\n",
       "  <thead>\n",
       "    <tr style=\"text-align: right;\">\n",
       "      <th></th>\n",
       "      <th>text</th>\n",
       "      <th>spam</th>\n",
       "    </tr>\n",
       "  </thead>\n",
       "  <tbody>\n",
       "    <tr>\n",
       "      <th>4223</th>\n",
       "      <td>Subject: re : visit to enron by professor nali...</td>\n",
       "      <td>0</td>\n",
       "    </tr>\n",
       "    <tr>\n",
       "      <th>1233</th>\n",
       "      <td>Subject: manage your diabetes effortlessly wit...</td>\n",
       "      <td>1</td>\n",
       "    </tr>\n",
       "    <tr>\n",
       "      <th>188</th>\n",
       "      <td>Subject: less time , less effort but better sa...</td>\n",
       "      <td>1</td>\n",
       "    </tr>\n",
       "    <tr>\n",
       "      <th>5010</th>\n",
       "      <td>Subject: new computers  hi lyn :  hope things ...</td>\n",
       "      <td>0</td>\n",
       "    </tr>\n",
       "    <tr>\n",
       "      <th>613</th>\n",
       "      <td>Subject: looking for property in spain ?  look...</td>\n",
       "      <td>1</td>\n",
       "    </tr>\n",
       "    <tr>\n",
       "      <th>...</th>\n",
       "      <td>...</td>\n",
       "      <td>...</td>\n",
       "    </tr>\n",
       "    <tr>\n",
       "      <th>636</th>\n",
       "      <td>Subject: i think , yes .  the things we sell a...</td>\n",
       "      <td>1</td>\n",
       "    </tr>\n",
       "    <tr>\n",
       "      <th>677</th>\n",
       "      <td>Subject: entrust your visual identity to us  t...</td>\n",
       "      <td>1</td>\n",
       "    </tr>\n",
       "    <tr>\n",
       "      <th>1969</th>\n",
       "      <td>Subject: cvs of candidates for rac support rol...</td>\n",
       "      <td>0</td>\n",
       "    </tr>\n",
       "    <tr>\n",
       "      <th>109</th>\n",
       "      <td>Subject: [ ilug ] re : popular . biz and . com...</td>\n",
       "      <td>1</td>\n",
       "    </tr>\n",
       "    <tr>\n",
       "      <th>949</th>\n",
       "      <td>Subject: failure notice  hi . this is the qmai...</td>\n",
       "      <td>1</td>\n",
       "    </tr>\n",
       "  </tbody>\n",
       "</table>\n",
       "<p>2736 rows × 2 columns</p>\n",
       "</div>"
      ],
      "text/plain": [
       "                                                   text  spam\n",
       "4223  Subject: re : visit to enron by professor nali...     0\n",
       "1233  Subject: manage your diabetes effortlessly wit...     1\n",
       "188   Subject: less time , less effort but better sa...     1\n",
       "5010  Subject: new computers  hi lyn :  hope things ...     0\n",
       "613   Subject: looking for property in spain ?  look...     1\n",
       "...                                                 ...   ...\n",
       "636   Subject: i think , yes .  the things we sell a...     1\n",
       "677   Subject: entrust your visual identity to us  t...     1\n",
       "1969  Subject: cvs of candidates for rac support rol...     0\n",
       "109   Subject: [ ilug ] re : popular . biz and . com...     1\n",
       "949   Subject: failure notice  hi . this is the qmai...     1\n",
       "\n",
       "[2736 rows x 2 columns]"
      ]
     },
     "execution_count": 111,
     "metadata": {},
     "output_type": "execute_result"
    }
   ],
   "source": [
    "df.sample(frac=1)  # Randomly shuffles all rows in the DataFrame.\n"
   ]
  },
  {
   "cell_type": "code",
   "execution_count": 112,
   "id": "be824e27",
   "metadata": {},
   "outputs": [],
   "source": [
    "df = df.sample(frac=1)  # Randomly shuffles all rows in the DataFrame.\n",
    "\n",
    "x = df['text'].astype(str)  # Extracts the 'text' column as input features and converts to string type.\n",
    "y = df['spam'].astype(float)  # Extracts the 'spam' column as target labels and converts to float type.\n"
   ]
  },
  {
   "cell_type": "code",
   "execution_count": 113,
   "id": "1bd0dc2a",
   "metadata": {},
   "outputs": [
    {
     "data": {
      "text/plain": [
       "1       Subject: the stock trading gunslinger  fanny i...\n",
       "1369    Subject: sacramento weather station  fyi  - - ...\n",
       "3286    Subject: re : meeting requested  i will ask re...\n",
       "4822    Subject: re :  thanks vince .  dinner on sunda...\n",
       "4991    Subject: 7 - 1 - 00 to 7 - 15 - 00 off duty an...\n",
       "5217    Subject: program  mike ,  here is third versio...\n",
       "5018    Subject: december 15 th super saturday friday ...\n",
       "3805    Subject: re : tanya ' s vacation  shirley ,  i...\n",
       "250     Subject: set & forget ! blast your ad over 200...\n",
       "4721    Subject: re : contract agreement  habiba ,  lo...\n",
       "Name: text, dtype: object"
      ]
     },
     "execution_count": 113,
     "metadata": {},
     "output_type": "execute_result"
    }
   ],
   "source": [
    "x.head(10)"
   ]
  },
  {
   "cell_type": "code",
   "execution_count": 114,
   "id": "a88be2b0",
   "metadata": {},
   "outputs": [
    {
     "data": {
      "text/plain": [
       "1       1.0\n",
       "1369    0.0\n",
       "3286    0.0\n",
       "4822    0.0\n",
       "4991    0.0\n",
       "5217    0.0\n",
       "5018    0.0\n",
       "3805    0.0\n",
       "250     1.0\n",
       "4721    0.0\n",
       "Name: spam, dtype: float64"
      ]
     },
     "execution_count": 114,
     "metadata": {},
     "output_type": "execute_result"
    }
   ],
   "source": [
    "y.head(10)"
   ]
  },
  {
   "cell_type": "code",
   "execution_count": 115,
   "id": "c85bf0a8",
   "metadata": {},
   "outputs": [],
   "source": [
    "vact = tf.keras.layers.TextVectorization(\n",
    "    max_tokens=150000,  # Maximum vocabulary size.\n",
    "    output_sequence_length=70,  # Maximum sequence length for each input.\n",
    "    pad_to_max_tokens=True  # Pad sequences to the maximum token limit.\n",
    ")\n",
    "\n",
    "df_tensor = tf.convert_to_tensor(df[\"text\"].astype(str), dtype=tf.string)  # Convert 'text' column to tensor.\n",
    "vact.adapt(df_tensor)  # Adapt the TextVectorization layer to the input text data.\n"
   ]
  },
  {
   "cell_type": "code",
   "execution_count": 118,
   "id": "1090675f",
   "metadata": {},
   "outputs": [],
   "source": [
    "embed = tf.keras.layers.Embedding(\n",
    "    150000,  # Input dimension (vocabulary size).\n",
    "    128,  # Output dimension (embedding size).\n",
    ")\n"
   ]
  },
  {
   "cell_type": "code",
   "execution_count": 119,
   "id": "7b2dc988",
   "metadata": {},
   "outputs": [],
   "source": [
    "model = Sequential([\n",
    "    layers.Input(shape=(1,), dtype=tf.string),  # Input layer for text data.\n",
    "    vact,  # TextVectorization layer.\n",
    "    embed,  # Embedding layer.\n",
    "    layers.Bidirectional(layers.LSTM(128, return_sequences=True, dropout=0.2)),  # Bidirectional LSTM layer.\n",
    "    layers.BatchNormalization(),  # Batch normalization layer.\n",
    "    layers.Conv1D(128, 5, activation=\"relu\"),  # Convolutional layer.\n",
    "    layers.BatchNormalization(),  # Batch normalization layer.\n",
    "    layers.Bidirectional(layers.GRU(64, return_sequences=True, dropout=0.2)),  # Bidirectional GRU layer.\n",
    "    layers.BatchNormalization(),  # Batch normalization layer.\n",
    "    layers.Conv1D(64, 5, activation=\"relu\"),  # Convolutional layer.\n",
    "    layers.BatchNormalization(),  # Batch normalization layer.\n",
    "    layers.Bidirectional(layers.GRU(32, return_sequences=True, dropout=0.2)),  # Bidirectional GRU layer.\n",
    "    layers.BatchNormalization(),  # Batch normalization layer.\n",
    "    layers.Conv1D(32, 5, activation=\"relu\"),  # Convolutional layer.\n",
    "    layers.BatchNormalization(),  # Batch normalization layer.\n",
    "    layers.Flatten(),  # Flatten layer.\n",
    "    layers.Dense(1, activation=\"sigmoid\")  # Output layer with sigmoid activation function.\n",
    "])\n"
   ]
  },
  {
   "cell_type": "code",
   "execution_count": 120,
   "id": "2b0d9a90",
   "metadata": {},
   "outputs": [
    {
     "name": "stdout",
     "output_type": "stream",
     "text": [
      "Model: \"sequential\"\n",
      "_________________________________________________________________\n",
      " Layer (type)                Output Shape              Param #   \n",
      "=================================================================\n",
      " text_vectorization (TextVe  (None, 70)                0         \n",
      " ctorization)                                                    \n",
      "                                                                 \n",
      " embedding (Embedding)       (None, 70, 128)           19200000  \n",
      "                                                                 \n",
      " bidirectional (Bidirection  (None, 70, 256)           263168    \n",
      " al)                                                             \n",
      "                                                                 \n",
      " batch_normalization (Batch  (None, 70, 256)           1024      \n",
      " Normalization)                                                  \n",
      "                                                                 \n",
      " conv1d (Conv1D)             (None, 66, 128)           163968    \n",
      "                                                                 \n",
      " batch_normalization_1 (Bat  (None, 66, 128)           512       \n",
      " chNormalization)                                                \n",
      "                                                                 \n",
      " bidirectional_1 (Bidirecti  (None, 66, 128)           74496     \n",
      " onal)                                                           \n",
      "                                                                 \n",
      " batch_normalization_2 (Bat  (None, 66, 128)           512       \n",
      " chNormalization)                                                \n",
      "                                                                 \n",
      " conv1d_1 (Conv1D)           (None, 62, 64)            41024     \n",
      "                                                                 \n",
      " batch_normalization_3 (Bat  (None, 62, 64)            256       \n",
      " chNormalization)                                                \n",
      "                                                                 \n",
      " bidirectional_2 (Bidirecti  (None, 62, 64)            18816     \n",
      " onal)                                                           \n",
      "                                                                 \n",
      " batch_normalization_4 (Bat  (None, 62, 64)            256       \n",
      " chNormalization)                                                \n",
      "                                                                 \n",
      " conv1d_2 (Conv1D)           (None, 58, 32)            10272     \n",
      "                                                                 \n",
      " batch_normalization_5 (Bat  (None, 58, 32)            128       \n",
      " chNormalization)                                                \n",
      "                                                                 \n",
      " flatten (Flatten)           (None, 1856)              0         \n",
      "                                                                 \n",
      " dense (Dense)               (None, 1)                 1857      \n",
      "                                                                 \n",
      "=================================================================\n",
      "Total params: 19776289 (75.44 MB)\n",
      "Trainable params: 19774945 (75.44 MB)\n",
      "Non-trainable params: 1344 (5.25 KB)\n",
      "_________________________________________________________________\n"
     ]
    }
   ],
   "source": [
    "model.summary()  # Displaying a summary of the model architecture.\n"
   ]
  },
  {
   "cell_type": "code",
   "execution_count": 121,
   "id": "81693520",
   "metadata": {},
   "outputs": [],
   "source": [
    "model.compile(\n",
    "    loss=\"binary_crossentropy\",  # Binary crossentropy loss function for binary classification.\n",
    "    optimizer=\"Adam\",  # Adam optimizer for training the model.\n",
    "    metrics=[\"accuracy\", \"recall\", \"precision\"]  # Evaluation metrics: accuracy, recall, and precision.\n",
    ")\n"
   ]
  },
  {
   "cell_type": "code",
   "execution_count": 123,
   "id": "63e389fc",
   "metadata": {},
   "outputs": [],
   "source": [
    "earlystopping = tf.keras.callbacks.EarlyStopping(\n",
    "    monitor='val_accuracy',  # Monitoring validation accuracy for early stopping.\n",
    "    min_delta=0.0001,  # Minimum change in monitored metric to qualify as an improvement.\n",
    "    patience=2,  # Number of epochs with no improvement after which training will be stopped.\n",
    "    restore_best_weights=True,  # Restoring best model weights after early stopping.\n",
    ")\n",
    "\n",
    "tensorboard = tf.keras.callbacks.TensorBoard()  # TensorBoard callback for visualization.\n",
    "\n",
    "chkpt = tf.keras.callbacks.ModelCheckpoint(\n",
    "    'mango.ckpt',  # Filepath to save the model checkpoint.\n",
    "    monitor='val_accuracy',  # Monitoring validation accuracy for saving the best model.\n",
    "    save_best_only=True,  # Save only the best model.\n",
    "    mode='auto',  # Mode for determining the best model to save.\n",
    "    save_freq='epoch',  # Frequency of saving checkpoints (per epoch).\n",
    ")\n"
   ]
  },
  {
   "cell_type": "code",
   "execution_count": 124,
   "id": "e97b3635",
   "metadata": {
    "scrolled": false
   },
   "outputs": [
    {
     "name": "stdout",
     "output_type": "stream",
     "text": [
      "Epoch 1/20\n",
      "86/86 [==============================] - ETA: 0s - loss: 0.2761 - Accuracy: 0.8739 - recall: 0.8772 - precision: 0.8715INFO:tensorflow:Assets written to: mango.ckpt\\assets\n"
     ]
    },
    {
     "name": "stderr",
     "output_type": "stream",
     "text": [
      "INFO:tensorflow:Assets written to: mango.ckpt\\assets\n"
     ]
    },
    {
     "name": "stdout",
     "output_type": "stream",
     "text": [
      "86/86 [==============================] - 157s 1s/step - loss: 0.2761 - Accuracy: 0.8739 - recall: 0.8772 - precision: 0.8715\n",
      "Epoch 2/20\n",
      "86/86 [==============================] - 58s 669ms/step - loss: 0.0607 - Accuracy: 0.9806 - recall: 0.9810 - precision: 0.9803\n",
      "Epoch 3/20\n",
      "86/86 [==============================] - 58s 669ms/step - loss: 0.0120 - Accuracy: 0.9971 - recall: 0.9956 - precision: 0.9985\n",
      "Epoch 4/20\n",
      "86/86 [==============================] - 58s 669ms/step - loss: 0.0048 - Accuracy: 0.9989 - recall: 0.9978 - precision: 1.0000\n",
      "Epoch 5/20\n",
      "86/86 [==============================] - 57s 666ms/step - loss: 0.0066 - Accuracy: 0.9978 - recall: 0.9971 - precision: 0.9985\n",
      "Epoch 6/20\n",
      "86/86 [==============================] - 536s 6s/step - loss: 0.0169 - Accuracy: 0.9942 - recall: 0.9956 - precision: 0.9927\n",
      "Epoch 7/20\n",
      "86/86 [==============================] - 60s 703ms/step - loss: 0.0096 - Accuracy: 0.9971 - recall: 0.9963 - precision: 0.9978\n",
      "Epoch 8/20\n",
      "86/86 [==============================] - 58s 671ms/step - loss: 0.0117 - Accuracy: 0.9967 - recall: 0.9978 - precision: 0.9956\n"
     ]
    }
   ],
   "source": [
    "with tf.device('/GPU:0'):  # Utilizing GPU for training if available.\n",
    "    model.fit(\n",
    "        x,  # Input features (text data).\n",
    "        y,  # Target labels.\n",
    "        epochs=20,  # Number of training epochs.\n",
    "        callbacks=[earlystopping, tensorboard, chkpt]  # Callbacks for monitoring and saving the model.\n",
    "    )\n"
   ]
  },
  {
   "cell_type": "code",
   "execution_count": null,
   "id": "598d5683",
   "metadata": {},
   "outputs": [],
   "source": []
  }
 ],
 "metadata": {
  "kernelspec": {
   "display_name": "Python 3 (ipykernel)",
   "language": "python",
   "name": "python3"
  },
  "language_info": {
   "codemirror_mode": {
    "name": "ipython",
    "version": 3
   },
   "file_extension": ".py",
   "mimetype": "text/x-python",
   "name": "python",
   "nbconvert_exporter": "python",
   "pygments_lexer": "ipython3",
   "version": "3.10.3"
  }
 },
 "nbformat": 4,
 "nbformat_minor": 5
}
